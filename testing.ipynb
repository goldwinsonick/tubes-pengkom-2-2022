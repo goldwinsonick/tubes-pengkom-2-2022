{
 "cells": [
  {
   "cell_type": "code",
   "execution_count": null,
   "metadata": {},
   "outputs": [],
   "source": []
  }
 ],
 "metadata": {
  "kernelspec": {
   "display_name": "Python 3.10.5 64-bit",
   "language": "python",
   "name": "python3"
  },
  "language_info": {
   "name": "python",
   "version": "3.10.5"
  },
  "orig_nbformat": 4,
  "vscode": {
   "interpreter": {
    "hash": "8bc6aaa2ffce538403944b92ea98501e5ac2840eb08599d79c6fa6d72f26dae9"
   }
  }
 },
 "nbformat": 4,
 "nbformat_minor": 2
}
